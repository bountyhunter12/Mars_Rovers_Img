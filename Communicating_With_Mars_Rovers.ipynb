{
  "nbformat": 4,
  "nbformat_minor": 0,
  "metadata": {
    "colab": {
      "provenance": [],
      "authorship_tag": "ABX9TyM/qADrB0cGrUrnRTRLZmzV",
      "include_colab_link": true
    },
    "kernelspec": {
      "name": "python3",
      "display_name": "Python 3"
    },
    "language_info": {
      "name": "python"
    }
  },
  "cells": [
    {
      "cell_type": "markdown",
      "metadata": {
        "id": "view-in-github",
        "colab_type": "text"
      },
      "source": [
        "<a href=\"https://colab.research.google.com/github/bountyhunter12/Mars_Rovers_Img/blob/main/Communicating_With_Mars_Rovers.ipynb\" target=\"_parent\"><img src=\"https://colab.research.google.com/assets/colab-badge.svg\" alt=\"Open In Colab\"/></a>"
      ]
    },
    {
      "cell_type": "code",
      "execution_count": 1,
      "metadata": {
        "colab": {
          "base_uri": "https://localhost:8080/"
        },
        "id": "aRK6-Iv6xFOj",
        "outputId": "be733d16-d138-477a-9897-611bba7ae526"
      },
      "outputs": [
        {
          "output_type": "stream",
          "name": "stdout",
          "text": [
            "Collecting nasapy\n",
            "  Downloading nasapy-0.2.7-py2.py3-none-any.whl.metadata (11 kB)\n",
            "Requirement already satisfied: requests>=2.18 in /usr/local/lib/python3.10/dist-packages (from nasapy) (2.32.3)\n",
            "Requirement already satisfied: charset-normalizer<4,>=2 in /usr/local/lib/python3.10/dist-packages (from requests>=2.18->nasapy) (3.3.2)\n",
            "Requirement already satisfied: idna<4,>=2.5 in /usr/local/lib/python3.10/dist-packages (from requests>=2.18->nasapy) (3.7)\n",
            "Requirement already satisfied: urllib3<3,>=1.21.1 in /usr/local/lib/python3.10/dist-packages (from requests>=2.18->nasapy) (2.0.7)\n",
            "Requirement already satisfied: certifi>=2017.4.17 in /usr/local/lib/python3.10/dist-packages (from requests>=2.18->nasapy) (2024.7.4)\n",
            "Downloading nasapy-0.2.7-py2.py3-none-any.whl (29 kB)\n",
            "Installing collected packages: nasapy\n",
            "Successfully installed nasapy-0.2.7\n",
            "Image saved as 'rover_image.jpg'.\n",
            "Taken by Curiosity on 2013-01-16 with Rear Hazard Avoidance Camera.\n",
            "Image URL: http://mars.jpl.nasa.gov/msl-raw-images/proj/msl/redops/ods/surface/sol/00159/opgs/edr/rcam/RRA_411614648EDR_F0051986RHAZ00324M_.JPG\n"
          ]
        }
      ],
      "source": [
        "!pip install nasapy\n",
        "import nasapy\n",
        "import random\n",
        "import os\n",
        "import urllib.request\n",
        "\n",
        "# Define the rover, for example, let's use \"curiosity\"\n",
        "rover = \"curiosity\"\n",
        "\n",
        "if rover in [\"curiosity\", \"opportunity\", \"spirit\"]:\n",
        "    # Initialize the NASA API with the provided key\n",
        "    nasa = nasapy.Nasa(key=\"dU6noeL63JqqXkai01N0CbUTrNpb3KQpbKbUMb0i\")\n",
        "\n",
        "    # Select a random sol and camera\n",
        "    sol_1 = random.randint(0, 1000)  # Replace with a valid sol range if needed\n",
        "    camera_1 = random.choice([\"FHAZ\", \"RHAZ\", \"NAVCAM\"])\n",
        "\n",
        "    # Fetch rover pictures from NASA API\n",
        "    roverpic = nasa.mars_rover(sol=sol_1, camera=camera_1, rover=rover)\n",
        "\n",
        "    if len(roverpic) == 0:\n",
        "        print(f\"No image from {rover} {camera_1} available from sol {str(sol_1)}\")\n",
        "    else:\n",
        "        random_pic = random.choice(roverpic)\n",
        "        index = roverpic.index(random_pic)\n",
        "\n",
        "        # Download the image (optional)\n",
        "        img_url = roverpic[index][\"img_src\"]\n",
        "        img_path = os.path.join(os.getcwd(), \"rover_image.jpg\")\n",
        "        urllib.request.urlretrieve(img_url, filename=img_path)\n",
        "\n",
        "        # Display the result\n",
        "        output = (\n",
        "            f\"Image saved as 'rover_image.jpg'.\\n\"\n",
        "            f\"Taken by {roverpic[index]['rover']['name']} on \"\n",
        "            f\"{roverpic[index]['earth_date']} with \"\n",
        "            f\"{roverpic[index]['camera']['full_name']}.\\n\"\n",
        "            f\"Image URL: {img_url}\"\n",
        "        )\n",
        "        print(output)\n",
        "\n"
      ]
    }
  ]
}